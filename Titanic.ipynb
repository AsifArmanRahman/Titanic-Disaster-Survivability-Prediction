{
 "cells": [
  {
   "cell_type": "markdown",
   "id": "frequent-exception",
   "metadata": {},
   "source": [
    "**Asif Arman Rahman**\n",
    "***"
   ]
  },
  {
   "cell_type": "markdown",
   "id": "owned-handle",
   "metadata": {},
   "source": [
    "# Ans. 1\n",
    "***\n",
    "\n",
    "## Description\n",
    "\n",
    "\n",
    "| Variable |                 Definition                 |                      Key                       |\n",
    "| :------: | :----------------------------------------: | :--------------------------------------------: |\n",
    "| survival |                   Survival\t                |                0 = No, 1 = Yes                 |\n",
    "|  pclass  |                 Ticket class               |            1 = 1st, 2 = 2nd, 3 = 3rd           |\n",
    "|   sex    |\t                 Sex\t                |                                                |\n",
    "|   Age    |                 Age in years\t            |                                                |\n",
    "|  sibsp   | # of siblings / spouses aboard the Titanic\t|                                                |\n",
    "|  parch   | # of parents / children aboard the Titanic\t|                                                |\n",
    "|  ticket  |                Ticket number           \t|                                                |\n",
    "|   fare   |               Passenger fare           \t|                                                |\n",
    "|   cabin  |                Cabin number            \t|                                                |\n",
    "| embarked |              Port of Embarkation           | C = Cherbourg, Q = Queenstown, S = Southampton |\n",
    "\n",
    "\n",
    "\n",
    "\n",
    "### Variable Notes\n",
    "\n",
    "**pclass:** A proxy for socio-economic status (SES)\n",
    "1st = Upper\n",
    "2nd = Middle\n",
    "3rd = Lower\n",
    "\n",
    "**age:** Age is fractional if less than 1. If the age is estimated, is it in the form of xx.5\n",
    "\n",
    "**sibsp:** The dataset defines family relations in this way...\n",
    "Sibling = brother, sister, stepbrother, stepsister\n",
    "Spouse = husband, wife (mistresses and fiancés were ignored)\n",
    "\n",
    "**parch:** The dataset defines family relations in this way...\n",
    "Parent = mother, father\n",
    "Child = daughter, son, stepdaughter, stepson\n",
    "Some children travelled only with a nanny, therefore parch=0 for them.\n",
    "\n",
    "\n",
    "### Dataset\n",
    "\n",
    "The dataset is available at this link [Titanic](https://www.kaggle.com/c/titanic)"
   ]
  },
  {
   "cell_type": "code",
   "execution_count": 1,
   "id": "third-appreciation",
   "metadata": {},
   "outputs": [],
   "source": [
    "#import library\n",
    "\n",
    "%matplotlib inline\n",
    "\n",
    "import re\n",
    "import warnings\n",
    "import pandas as pd\n",
    "import seaborn as sns\n",
    "from numpy import mean, std\n",
    "import matplotlib.pyplot as plt\n",
    "from sklearn.tree import DecisionTreeClassifier\n",
    "from sklearn.model_selection import GridSearchCV\n",
    "from sklearn.linear_model import LinearRegression\n",
    "from sklearn.ensemble import RandomForestClassifier\n",
    "from sklearn.model_selection import StratifiedKFold, cross_val_score\n",
    "\n",
    "\n",
    "warnings.filterwarnings('ignore')"
   ]
  },
  {
   "cell_type": "markdown",
   "id": "disabled-serum",
   "metadata": {},
   "source": [
    "#  Ans. 2\n",
    "***\n",
    "\n",
    "\n",
    "**i.** Print Data\n",
    "\n",
    "**ii.** Visulaize Data\n",
    "\n",
    "**iii.** Number of Attributes\n",
    "\n",
    "**iv.** Number of Records\n",
    "\n",
    "**v.** Handling Missing Data (if there's any)"
   ]
  },
  {
   "cell_type": "code",
   "execution_count": 2,
   "id": "bright-tribute",
   "metadata": {},
   "outputs": [],
   "source": [
    "# Load Data\n",
    "\n",
    "train = pd.read_csv(\"data/train.csv\")\n",
    "test = pd.read_csv(\"data/test.csv\")"
   ]
  },
  {
   "cell_type": "code",
   "execution_count": 3,
   "id": "coastal-scoop",
   "metadata": {},
   "outputs": [
    {
     "data": {
      "text/html": [
       "<div>\n",
       "<style scoped>\n",
       "    .dataframe tbody tr th:only-of-type {\n",
       "        vertical-align: middle;\n",
       "    }\n",
       "\n",
       "    .dataframe tbody tr th {\n",
       "        vertical-align: top;\n",
       "    }\n",
       "\n",
       "    .dataframe thead th {\n",
       "        text-align: right;\n",
       "    }\n",
       "</style>\n",
       "<table border=\"1\" class=\"dataframe\">\n",
       "  <thead>\n",
       "    <tr style=\"text-align: right;\">\n",
       "      <th></th>\n",
       "      <th>PassengerId</th>\n",
       "      <th>Survived</th>\n",
       "      <th>Pclass</th>\n",
       "      <th>Name</th>\n",
       "      <th>Sex</th>\n",
       "      <th>Age</th>\n",
       "      <th>SibSp</th>\n",
       "      <th>Parch</th>\n",
       "      <th>Ticket</th>\n",
       "      <th>Fare</th>\n",
       "      <th>Cabin</th>\n",
       "      <th>Embarked</th>\n",
       "    </tr>\n",
       "  </thead>\n",
       "  <tbody>\n",
       "    <tr>\n",
       "      <th>0</th>\n",
       "      <td>1</td>\n",
       "      <td>0</td>\n",
       "      <td>3</td>\n",
       "      <td>Braund, Mr. Owen Harris</td>\n",
       "      <td>male</td>\n",
       "      <td>22.0</td>\n",
       "      <td>1</td>\n",
       "      <td>0</td>\n",
       "      <td>A/5 21171</td>\n",
       "      <td>7.2500</td>\n",
       "      <td>NaN</td>\n",
       "      <td>S</td>\n",
       "    </tr>\n",
       "    <tr>\n",
       "      <th>1</th>\n",
       "      <td>2</td>\n",
       "      <td>1</td>\n",
       "      <td>1</td>\n",
       "      <td>Cumings, Mrs. John Bradley (Florence Briggs Th...</td>\n",
       "      <td>female</td>\n",
       "      <td>38.0</td>\n",
       "      <td>1</td>\n",
       "      <td>0</td>\n",
       "      <td>PC 17599</td>\n",
       "      <td>71.2833</td>\n",
       "      <td>C85</td>\n",
       "      <td>C</td>\n",
       "    </tr>\n",
       "  </tbody>\n",
       "</table>\n",
       "</div>"
      ],
      "text/plain": [
       "   PassengerId  Survived  Pclass  \\\n",
       "0            1         0       3   \n",
       "1            2         1       1   \n",
       "\n",
       "                                                Name     Sex   Age  SibSp  \\\n",
       "0                            Braund, Mr. Owen Harris    male  22.0      1   \n",
       "1  Cumings, Mrs. John Bradley (Florence Briggs Th...  female  38.0      1   \n",
       "\n",
       "   Parch     Ticket     Fare Cabin Embarked  \n",
       "0      0  A/5 21171   7.2500   NaN        S  \n",
       "1      0   PC 17599  71.2833   C85        C  "
      ]
     },
     "metadata": {},
     "output_type": "display_data"
    },
    {
     "data": {
      "text/html": [
       "<div>\n",
       "<style scoped>\n",
       "    .dataframe tbody tr th:only-of-type {\n",
       "        vertical-align: middle;\n",
       "    }\n",
       "\n",
       "    .dataframe tbody tr th {\n",
       "        vertical-align: top;\n",
       "    }\n",
       "\n",
       "    .dataframe thead th {\n",
       "        text-align: right;\n",
       "    }\n",
       "</style>\n",
       "<table border=\"1\" class=\"dataframe\">\n",
       "  <thead>\n",
       "    <tr style=\"text-align: right;\">\n",
       "      <th></th>\n",
       "      <th>PassengerId</th>\n",
       "      <th>Pclass</th>\n",
       "      <th>Name</th>\n",
       "      <th>Sex</th>\n",
       "      <th>Age</th>\n",
       "      <th>SibSp</th>\n",
       "      <th>Parch</th>\n",
       "      <th>Ticket</th>\n",
       "      <th>Fare</th>\n",
       "      <th>Cabin</th>\n",
       "      <th>Embarked</th>\n",
       "    </tr>\n",
       "  </thead>\n",
       "  <tbody>\n",
       "    <tr>\n",
       "      <th>0</th>\n",
       "      <td>892</td>\n",
       "      <td>3</td>\n",
       "      <td>Kelly, Mr. James</td>\n",
       "      <td>male</td>\n",
       "      <td>34.5</td>\n",
       "      <td>0</td>\n",
       "      <td>0</td>\n",
       "      <td>330911</td>\n",
       "      <td>7.8292</td>\n",
       "      <td>NaN</td>\n",
       "      <td>Q</td>\n",
       "    </tr>\n",
       "    <tr>\n",
       "      <th>1</th>\n",
       "      <td>893</td>\n",
       "      <td>3</td>\n",
       "      <td>Wilkes, Mrs. James (Ellen Needs)</td>\n",
       "      <td>female</td>\n",
       "      <td>47.0</td>\n",
       "      <td>1</td>\n",
       "      <td>0</td>\n",
       "      <td>363272</td>\n",
       "      <td>7.0000</td>\n",
       "      <td>NaN</td>\n",
       "      <td>S</td>\n",
       "    </tr>\n",
       "  </tbody>\n",
       "</table>\n",
       "</div>"
      ],
      "text/plain": [
       "   PassengerId  Pclass                              Name     Sex   Age  SibSp  \\\n",
       "0          892       3                  Kelly, Mr. James    male  34.5      0   \n",
       "1          893       3  Wilkes, Mrs. James (Ellen Needs)  female  47.0      1   \n",
       "\n",
       "   Parch  Ticket    Fare Cabin Embarked  \n",
       "0      0  330911  7.8292   NaN        Q  \n",
       "1      0  363272  7.0000   NaN        S  "
      ]
     },
     "metadata": {},
     "output_type": "display_data"
    }
   ],
   "source": [
    "# Print data\n",
    "\n",
    "display(train.head(2))\n",
    "display(test.head(2))"
   ]
  },
  {
   "cell_type": "code",
   "execution_count": 4,
   "id": "restricted-firewall",
   "metadata": {},
   "outputs": [
    {
     "data": {
      "image/png": "[encoded data removed]",
      "text/plain": [
       "<Figure size 1152x720 with 9 Axes>"
      ]
     },
     "metadata": {
      "needs_background": "light"
     },
     "output_type": "display_data"
    },
    {
     "data": {
      "image/png": "[encoded data removed]",
      "text/plain": [
       "<Figure size 720x576 with 6 Axes>"
      ]
     },
     "metadata": {
      "needs_background": "light"
     },
     "output_type": "display_data"
    }
   ],
   "source": [
    "# Visualize\n",
    "\n",
    "train.hist(figsize = (16, 10))\n",
    "plt.show()\n",
    "\n",
    "test.hist(figsize = (10, 8))\n",
    "plt.show()"
   ]
  },
  {
   "cell_type": "code",
   "execution_count": 5,
   "id": "hindu-letter",
   "metadata": {},
   "outputs": [
    {
     "data": {
      "image/png": "[encoded data removed]",
      "text/plain": [
       "<Figure size 360x360 with 1 Axes>"
      ]
     },
     "metadata": {
      "needs_background": "light"
     },
     "output_type": "display_data"
    }
   ],
   "source": [
    "### Survived Plot\n",
    "sns.factorplot('Survived', data = train, kind = 'count')\n",
    "plt.show()"
   ]
  },
  {
   "cell_type": "code",
   "execution_count": 6,
   "id": "numeric-tours",
   "metadata": {},
   "outputs": [
    {
     "data": {
      "image/png": "[encoded data removed]",
      "text/plain": [
       "<Figure size 360x360 with 1 Axes>"
      ]
     },
     "metadata": {
      "needs_background": "light"
     },
     "output_type": "display_data"
    }
   ],
   "source": [
    "### Gender Plot\n",
    "sns.factorplot('Sex', data = train, kind = 'count')\n",
    "plt.show()"
   ]
  },
  {
   "cell_type": "code",
   "execution_count": 7,
   "id": "latest-citizenship",
   "metadata": {},
   "outputs": [
    {
     "data": {
      "image/png": "[encoded data removed]",
      "text/plain": [
       "<Figure size 360x360 with 1 Axes>"
      ]
     },
     "metadata": {
      "needs_background": "light"
     },
     "output_type": "display_data"
    }
   ],
   "source": [
    "### Class plot\n",
    "sns.factorplot('Pclass', data = train, kind = 'count')\n",
    "plt.show()"
   ]
  },
  {
   "cell_type": "code",
   "execution_count": 8,
   "id": "single-deviation",
   "metadata": {},
   "outputs": [
    {
     "data": {
      "text/plain": [
       "(891, 12)"
      ]
     },
     "metadata": {},
     "output_type": "display_data"
    },
    {
     "data": {
      "text/plain": [
       "(418, 11)"
      ]
     },
     "metadata": {},
     "output_type": "display_data"
    }
   ],
   "source": [
    "# number of records and attributes\n",
    "\n",
    "display(train.shape)\n",
    "display(test.shape)"
   ]
  },
  {
   "cell_type": "code",
   "execution_count": 9,
   "id": "damaged-nickel",
   "metadata": {},
   "outputs": [
    {
     "name": "stdout",
     "output_type": "stream",
     "text": [
      "Train:\n"
     ]
    },
    {
     "data": {
      "text/plain": [
       "PassengerId      0\n",
       "Survived         0\n",
       "Pclass           0\n",
       "Name             0\n",
       "Sex              0\n",
       "Age            177\n",
       "SibSp            0\n",
       "Parch            0\n",
       "Ticket           0\n",
       "Fare             0\n",
       "Cabin          687\n",
       "Embarked         2\n",
       "dtype: int64"
      ]
     },
     "metadata": {},
     "output_type": "display_data"
    },
    {
     "name": "stdout",
     "output_type": "stream",
     "text": [
      "Test:\n"
     ]
    },
    {
     "data": {
      "text/plain": [
       "PassengerId      0\n",
       "Pclass           0\n",
       "Name             0\n",
       "Sex              0\n",
       "Age             86\n",
       "SibSp            0\n",
       "Parch            0\n",
       "Ticket           0\n",
       "Fare             1\n",
       "Cabin          327\n",
       "Embarked         0\n",
       "dtype: int64"
      ]
     },
     "metadata": {},
     "output_type": "display_data"
    }
   ],
   "source": [
    "# Missing data\n",
    "\n",
    "print('Train:')\n",
    "display(train.isnull().sum())\n",
    "\n",
    "print('Test:')\n",
    "display(test.isnull().sum())"
   ]
  },
  {
   "cell_type": "markdown",
   "id": "increased-drawing",
   "metadata": {},
   "source": [
    "These will require Handling.\n",
    "\n",
    "Cabin > Age > Embarked features contain a number of null values in that order for the training dataset.\n",
    "\n",
    "Cabin > Age are incomplete in case of test dataset.\n",
    "\n",
    "As Cabin has huge data loss, it can't be filled, we'll use it later in another way."
   ]
  },
  {
   "cell_type": "code",
   "execution_count": 10,
   "id": "helpful-guyana",
   "metadata": {},
   "outputs": [],
   "source": [
    "#filling missing values 'Age' by median\n",
    "\n",
    "train.Age= train.Age.fillna(train.Age.median()) \n",
    "test.Age= test.Age.fillna(test.Age.median()) "
   ]
  },
  {
   "cell_type": "code",
   "execution_count": 11,
   "id": "adjusted-sharing",
   "metadata": {},
   "outputs": [],
   "source": [
    "#filling missing values 'Fare' by mean\n",
    "\n",
    "test.Fare= test.Fare.fillna(train.Fare.mean()) "
   ]
  },
  {
   "cell_type": "code",
   "execution_count": 12,
   "id": "biological-quick",
   "metadata": {},
   "outputs": [
    {
     "data": {
      "text/plain": [
       "S    644\n",
       "C    168\n",
       "Q     77\n",
       "Name: Embarked, dtype: int64"
      ]
     },
     "metadata": {},
     "output_type": "display_data"
    }
   ],
   "source": [
    "display(train.Embarked.value_counts())"
   ]
  },
  {
   "cell_type": "code",
   "execution_count": 13,
   "id": "religious-substance",
   "metadata": {},
   "outputs": [],
   "source": [
    "#filling missing values 'Embarked' by the hightest number of value\n",
    "\n",
    "train.Embarked= train[\"Embarked\"].fillna('S') "
   ]
  },
  {
   "cell_type": "markdown",
   "id": "bridal-founder",
   "metadata": {},
   "source": [
    "# Ans. 3\n",
    "***\n",
    "\n",
    "From the correlation Graph it can be discovered that:\n",
    "\n",
    "* **Parch** has the most effect on the output.\n",
    "* Next one is **Age**.\n",
    "* The ones after these two don't have as huge effect as these two. "
   ]
  },
  {
   "cell_type": "code",
   "execution_count": 14,
   "id": "swiss-patch",
   "metadata": {},
   "outputs": [
    {
     "data": {
      "text/plain": [
       "Index(['PassengerId', 'Survived', 'Pclass', 'Name', 'Sex', 'Age', 'SibSp',\n",
       "       'Parch', 'Ticket', 'Fare', 'Cabin', 'Embarked'],\n",
       "      dtype='object')"
      ]
     },
     "metadata": {},
     "output_type": "display_data"
    }
   ],
   "source": [
    "column_names = train.columns\n",
    "\n",
    "display(column_names)"
   ]
  },
  {
   "cell_type": "code",
   "execution_count": 15,
   "id": "dynamic-springer",
   "metadata": {},
   "outputs": [],
   "source": [
    "# Reodering columns\n",
    "\n",
    "reorder = ['PassengerId', 'Pclass', 'Name', 'Sex', 'Age', 'SibSp', 'Parch', 'Ticket', 'Fare', 'Cabin', 'Embarked', 'Survived']\n",
    "\n",
    "train = train[reorder]"
   ]
  },
  {
   "cell_type": "code",
   "execution_count": 16,
   "id": "average-intellectual",
   "metadata": {},
   "outputs": [
    {
     "data": {
      "image/png": "[encoded data removed]",
      "text/plain": [
       "<Figure size 576x576 with 2 Axes>"
      ]
     },
     "metadata": {
      "needs_background": "light"
     },
     "output_type": "display_data"
    }
   ],
   "source": [
    "# Correlation Matrix\n",
    "\n",
    "plt.figure(figsize=(8,8))\n",
    "plt.title('Pearson Correlation of Features', y=1.05, size=15)\n",
    "sns.heatmap(train.corr(), linewidths=0.1, square=True, annot=True)\n",
    "plt.show()"
   ]
  },
  {
   "cell_type": "markdown",
   "id": "facial-washington",
   "metadata": {},
   "source": [
    "# Ans. 4\n",
    "***\n",
    "\n",
    "New attribute/feature from existing attributes\n",
    "\n",
    "i.    Title\n",
    "\n",
    "ii.   HasCabin\n",
    "\n",
    "iii.  FamilySize\n",
    "\n",
    "iv.   IsAlone\n",
    "\n",
    "v.    Sex\n",
    "\n",
    "vi.   Age\n",
    "\n",
    "vii.  Embarked\n",
    "\n",
    "viii. Fare"
   ]
  },
  {
   "cell_type": "code",
   "execution_count": 17,
   "id": "alike-cardiff",
   "metadata": {},
   "outputs": [],
   "source": [
    "full_data = [train, test]\n",
    "\n",
    "\n",
    "\n",
    "# Create a new feature Title, containing the titles of passenger names, because names on it's own had no contribution before\n",
    "\n",
    "def get_title(name):\n",
    "    title_search = re.search(' ([A-Za-z]+)\\.', name)\n",
    "    \n",
    "    # If the title exists, extract and return it.\n",
    "    \n",
    "    if title_search:\n",
    "        return title_search.group(1)\n",
    "    return \"\"\n",
    "\n",
    "for dataset in full_data:\n",
    "    dataset['Title'] = dataset['Name'].apply(get_title)\n",
    "\n",
    "for dataset in full_data:\n",
    "    dataset['Title'] = dataset['Title'].replace(['Lady', 'Countess','Capt', 'Col','Don', 'Dr', 'Major', 'Rev', 'Sir', 'Jonkheer', 'Dona'], 'Rare')     # Group all non-common titles into one single grouping \"Rare\"\n",
    "    \n",
    "title_mapping = {\"Mr\": 1, \"Miss\": 2, \"Mrs\": 3, \"Master\": 4, \"Rare\": 5}\n",
    "\n",
    "for dataset in full_data:\n",
    "    dataset['Title'] = dataset['Title'].map(title_mapping)\n",
    "    dataset['Title'] = dataset['Title'].fillna(0)\n",
    "    \n",
    "train.Title = train.Title.astype(int)\n",
    "test.Title = test.Title.astype(int)\n",
    "\n",
    "\n",
    "\n",
    "\n",
    "# Feature that tells whether a passenger had a cabin on the Titanic, this way we'll assume the missing values in cabin means they had no cabin\n",
    "\n",
    "train['Has_Cabin'] = train[\"Cabin\"].apply(lambda x: 0 if type(x) == float else 1)\n",
    "test['Has_Cabin'] = test[\"Cabin\"].apply(lambda x: 0 if type(x) == float else 1)\n",
    "\n",
    "\n",
    "\n",
    "\n",
    "# Create new feature FamilySize as a combination of SibSp and Parch\n",
    "\n",
    "for dataset in full_data:\n",
    "    \n",
    "    dataset['FamilySize'] = dataset['SibSp'] + dataset['Parch'] + 1\n",
    "\n",
    "\n",
    "\n",
    "# Create new feature IsAlone from FamilySize\n",
    "\n",
    "for dataset in full_data:\n",
    "    \n",
    "    dataset['IsAlone'] = 0\n",
    "    dataset.loc[dataset['FamilySize'] == 1, 'IsAlone'] = 1\n",
    "\n",
    "\n",
    "\n",
    "# Mapping Sex\n",
    "for dataset in full_data:\n",
    "    dataset['Sex'] = dataset['Sex'].map( {'female': 1, 'male': 0} ).astype(int)\n",
    "\n",
    "\n",
    "# Mapping Age\n",
    "for dataset in full_data:\n",
    "\n",
    "    dataset.loc[ dataset['Age'] <= 16, 'Age'] = 0\n",
    "    dataset.loc[(dataset['Age'] > 16) & (dataset['Age'] <= 32), 'Age'] = 1\n",
    "    dataset.loc[(dataset['Age'] > 32) & (dataset['Age'] <= 48), 'Age'] = 2\n",
    "    dataset.loc[(dataset['Age'] > 48) & (dataset['Age'] <= 64), 'Age'] = 3\n",
    "    dataset.loc[ dataset['Age'] > 64, 'Age'] = 4\n",
    "\n",
    "train.Age = train.Age.astype(int)\n",
    "test.Age = test.Age.astype(int)\n",
    "\n",
    "\n",
    "\n",
    "\n",
    "# Mapping Embarked\n",
    "\n",
    "for dataset in full_data:\n",
    "\n",
    "    dataset.Embarked = dataset.Embarked.map( {'S': 0, 'C': 1, 'Q': 2} ).astype(int)\n",
    "\n",
    "\n",
    "\n",
    "# Mapping Fare\n",
    "\n",
    "for dataset in full_data:\n",
    "    dataset.loc[ dataset['Fare'] <= 7.91, 'Fare'] = 0\n",
    "    dataset.loc[(dataset['Fare'] > 7.91) & (dataset['Fare'] <= 14.454), 'Fare'] = 1\n",
    "    dataset.loc[(dataset['Fare'] > 14.454) & (dataset['Fare'] <= 31), 'Fare']   = 2\n",
    "    dataset.loc[ dataset['Fare'] > 31, 'Fare'] = 3\n",
    "    dataset['Fare'] = dataset['Fare'].astype(int)"
   ]
  },
  {
   "cell_type": "code",
   "execution_count": 18,
   "id": "sapphire-singer",
   "metadata": {},
   "outputs": [
    {
     "data": {
      "text/html": [
       "<div>\n",
       "<style scoped>\n",
       "    .dataframe tbody tr th:only-of-type {\n",
       "        vertical-align: middle;\n",
       "    }\n",
       "\n",
       "    .dataframe tbody tr th {\n",
       "        vertical-align: top;\n",
       "    }\n",
       "\n",
       "    .dataframe thead th {\n",
       "        text-align: right;\n",
       "    }\n",
       "</style>\n",
       "<table border=\"1\" class=\"dataframe\">\n",
       "  <thead>\n",
       "    <tr style=\"text-align: right;\">\n",
       "      <th></th>\n",
       "      <th>Pclass</th>\n",
       "      <th>Sex</th>\n",
       "      <th>Age</th>\n",
       "      <th>Fare</th>\n",
       "      <th>Embarked</th>\n",
       "      <th>Survived</th>\n",
       "      <th>Title</th>\n",
       "      <th>Has_Cabin</th>\n",
       "      <th>IsAlone</th>\n",
       "    </tr>\n",
       "  </thead>\n",
       "  <tbody>\n",
       "    <tr>\n",
       "      <th>0</th>\n",
       "      <td>3</td>\n",
       "      <td>0</td>\n",
       "      <td>1</td>\n",
       "      <td>0</td>\n",
       "      <td>0</td>\n",
       "      <td>0</td>\n",
       "      <td>1</td>\n",
       "      <td>0</td>\n",
       "      <td>0</td>\n",
       "    </tr>\n",
       "    <tr>\n",
       "      <th>1</th>\n",
       "      <td>1</td>\n",
       "      <td>1</td>\n",
       "      <td>2</td>\n",
       "      <td>3</td>\n",
       "      <td>1</td>\n",
       "      <td>1</td>\n",
       "      <td>3</td>\n",
       "      <td>1</td>\n",
       "      <td>0</td>\n",
       "    </tr>\n",
       "    <tr>\n",
       "      <th>2</th>\n",
       "      <td>3</td>\n",
       "      <td>1</td>\n",
       "      <td>1</td>\n",
       "      <td>1</td>\n",
       "      <td>0</td>\n",
       "      <td>1</td>\n",
       "      <td>2</td>\n",
       "      <td>0</td>\n",
       "      <td>1</td>\n",
       "    </tr>\n",
       "    <tr>\n",
       "      <th>3</th>\n",
       "      <td>1</td>\n",
       "      <td>1</td>\n",
       "      <td>2</td>\n",
       "      <td>3</td>\n",
       "      <td>0</td>\n",
       "      <td>1</td>\n",
       "      <td>3</td>\n",
       "      <td>1</td>\n",
       "      <td>0</td>\n",
       "    </tr>\n",
       "    <tr>\n",
       "      <th>4</th>\n",
       "      <td>3</td>\n",
       "      <td>0</td>\n",
       "      <td>2</td>\n",
       "      <td>1</td>\n",
       "      <td>0</td>\n",
       "      <td>0</td>\n",
       "      <td>1</td>\n",
       "      <td>0</td>\n",
       "      <td>1</td>\n",
       "    </tr>\n",
       "  </tbody>\n",
       "</table>\n",
       "</div>"
      ],
      "text/plain": [
       "   Pclass  Sex  Age  Fare  Embarked  Survived  Title  Has_Cabin  IsAlone\n",
       "0       3    0    1     0         0         0      1          0        0\n",
       "1       1    1    2     3         1         1      3          1        0\n",
       "2       3    1    1     1         0         1      2          0        1\n",
       "3       1    1    2     3         0         1      3          1        0\n",
       "4       3    0    2     1         0         0      1          0        1"
      ]
     },
     "execution_count": 18,
     "metadata": {},
     "output_type": "execute_result"
    }
   ],
   "source": [
    "### dropping attributes\n",
    "\n",
    "train = train.drop(columns = ['PassengerId', 'Name', 'SibSp', 'Parch', 'Ticket', 'Cabin', 'FamilySize'], axis=1)\n",
    "train.head()"
   ]
  },
  {
   "cell_type": "code",
   "execution_count": 19,
   "id": "twenty-dublin",
   "metadata": {},
   "outputs": [
    {
     "data": {
      "text/html": [
       "<div>\n",
       "<style scoped>\n",
       "    .dataframe tbody tr th:only-of-type {\n",
       "        vertical-align: middle;\n",
       "    }\n",
       "\n",
       "    .dataframe tbody tr th {\n",
       "        vertical-align: top;\n",
       "    }\n",
       "\n",
       "    .dataframe thead th {\n",
       "        text-align: right;\n",
       "    }\n",
       "</style>\n",
       "<table border=\"1\" class=\"dataframe\">\n",
       "  <thead>\n",
       "    <tr style=\"text-align: right;\">\n",
       "      <th></th>\n",
       "      <th>PassengerId</th>\n",
       "      <th>Pclass</th>\n",
       "      <th>Sex</th>\n",
       "      <th>Age</th>\n",
       "      <th>Fare</th>\n",
       "      <th>Embarked</th>\n",
       "      <th>Title</th>\n",
       "      <th>Has_Cabin</th>\n",
       "      <th>IsAlone</th>\n",
       "    </tr>\n",
       "  </thead>\n",
       "  <tbody>\n",
       "    <tr>\n",
       "      <th>0</th>\n",
       "      <td>892</td>\n",
       "      <td>3</td>\n",
       "      <td>0</td>\n",
       "      <td>2</td>\n",
       "      <td>0</td>\n",
       "      <td>2</td>\n",
       "      <td>1</td>\n",
       "      <td>0</td>\n",
       "      <td>1</td>\n",
       "    </tr>\n",
       "    <tr>\n",
       "      <th>1</th>\n",
       "      <td>893</td>\n",
       "      <td>3</td>\n",
       "      <td>1</td>\n",
       "      <td>2</td>\n",
       "      <td>0</td>\n",
       "      <td>0</td>\n",
       "      <td>3</td>\n",
       "      <td>0</td>\n",
       "      <td>0</td>\n",
       "    </tr>\n",
       "    <tr>\n",
       "      <th>2</th>\n",
       "      <td>894</td>\n",
       "      <td>2</td>\n",
       "      <td>0</td>\n",
       "      <td>3</td>\n",
       "      <td>1</td>\n",
       "      <td>2</td>\n",
       "      <td>1</td>\n",
       "      <td>0</td>\n",
       "      <td>1</td>\n",
       "    </tr>\n",
       "    <tr>\n",
       "      <th>3</th>\n",
       "      <td>895</td>\n",
       "      <td>3</td>\n",
       "      <td>0</td>\n",
       "      <td>1</td>\n",
       "      <td>1</td>\n",
       "      <td>0</td>\n",
       "      <td>1</td>\n",
       "      <td>0</td>\n",
       "      <td>1</td>\n",
       "    </tr>\n",
       "    <tr>\n",
       "      <th>4</th>\n",
       "      <td>896</td>\n",
       "      <td>3</td>\n",
       "      <td>1</td>\n",
       "      <td>1</td>\n",
       "      <td>1</td>\n",
       "      <td>0</td>\n",
       "      <td>3</td>\n",
       "      <td>0</td>\n",
       "      <td>0</td>\n",
       "    </tr>\n",
       "  </tbody>\n",
       "</table>\n",
       "</div>"
      ],
      "text/plain": [
       "   PassengerId  Pclass  Sex  Age  Fare  Embarked  Title  Has_Cabin  IsAlone\n",
       "0          892       3    0    2     0         2      1          0        1\n",
       "1          893       3    1    2     0         0      3          0        0\n",
       "2          894       2    0    3     1         2      1          0        1\n",
       "3          895       3    0    1     1         0      1          0        1\n",
       "4          896       3    1    1     1         0      3          0        0"
      ]
     },
     "execution_count": 19,
     "metadata": {},
     "output_type": "execute_result"
    }
   ],
   "source": [
    "### dropping attributes\n",
    "\n",
    "test = test.drop(columns = ['Name', 'SibSp', 'Parch', 'Ticket', 'Cabin', 'FamilySize'], axis=1)\n",
    "test.head()"
   ]
  },
  {
   "cell_type": "markdown",
   "id": "enabling-compression",
   "metadata": {},
   "source": [
    "# Ans. 5\n",
    "***\n",
    "\n",
    "a) Split data\n",
    "\n",
    "b) Apply Models:\n",
    "\n",
    "\n",
    "     i)  Decision Tree Classifier\n",
    "\n",
    "    ii)  Random Forest Classifier\n",
    "\n",
    "    iii) Linear Regression Classifier"
   ]
  },
  {
   "cell_type": "code",
   "execution_count": 20,
   "id": "intensive-wells",
   "metadata": {},
   "outputs": [],
   "source": [
    "#Split data\n",
    "\n",
    "Y_train = train[\"Survived\"]\n",
    "X_train = train.drop(\"Survived\", axis=1)"
   ]
  },
  {
   "cell_type": "code",
   "execution_count": 21,
   "id": "supposed-realtor",
   "metadata": {},
   "outputs": [
    {
     "data": {
      "text/plain": [
       "Index(['PassengerId', 'Pclass', 'Sex', 'Age', 'Fare', 'Embarked', 'Title',\n",
       "       'Has_Cabin', 'IsAlone'],\n",
       "      dtype='object')"
      ]
     },
     "execution_count": 21,
     "metadata": {},
     "output_type": "execute_result"
    }
   ],
   "source": [
    "test.columns"
   ]
  },
  {
   "cell_type": "code",
   "execution_count": 22,
   "id": "characteristic-ministry",
   "metadata": {},
   "outputs": [
    {
     "data": {
      "text/plain": [
       "((891, 8), (891,), (418, 8))"
      ]
     },
     "execution_count": 22,
     "metadata": {},
     "output_type": "execute_result"
    }
   ],
   "source": [
    "rcol = ['Pclass', 'Sex', 'Age', 'Fare', 'Embarked', 'Title', 'Has_Cabin', 'IsAlone']\n",
    "\n",
    "X_test  = test[rcol]\n",
    "X_train.shape, Y_train.shape, X_test.shape"
   ]
  },
  {
   "cell_type": "code",
   "execution_count": 23,
   "id": "statewide-membrane",
   "metadata": {},
   "outputs": [
    {
     "name": "stdout",
     "output_type": "stream",
     "text": [
      "Decision Tree Classifier accurary: 87.880\n"
     ]
    }
   ],
   "source": [
    "# Decision Tree\n",
    "\n",
    "decision_tree = DecisionTreeClassifier()\n",
    "decision_tree.fit(X_train, Y_train)\n",
    "Y_pred_DS = decision_tree.predict(X_test)\n",
    "\n",
    "acc_decision_tree = round(decision_tree.score(X_train, Y_train) * 100, 2)\n",
    "print(\"Decision Tree Classifier accurary: %.3f\" % (acc_decision_tree))"
   ]
  },
  {
   "cell_type": "code",
   "execution_count": 24,
   "id": "indirect-completion",
   "metadata": {},
   "outputs": [
    {
     "name": "stdout",
     "output_type": "stream",
     "text": [
      "Random Forrest Classifier accurary: 87.880\n"
     ]
    }
   ],
   "source": [
    "# Random Forrest\n",
    "\n",
    "random_forest = RandomForestClassifier(n_estimators=100)\n",
    "random_forest.fit(X_train, Y_train)\n",
    "Y_pred_RF = random_forest.predict(X_test)\n",
    "\n",
    "acc_random_forest = round(random_forest.score(X_train, Y_train) * 100, 2)\n",
    "print(\"Random Forrest Classifier accurary: %.3f\" % (acc_random_forest))"
   ]
  },
  {
   "cell_type": "code",
   "execution_count": 25,
   "id": "respected-record",
   "metadata": {},
   "outputs": [
    {
     "name": "stdout",
     "output_type": "stream",
     "text": [
      "Linear Regression accurary: 40.450\n"
     ]
    }
   ],
   "source": [
    "# Linear Regression\n",
    " \n",
    "linear_regression = LinearRegression()\n",
    "linear_regression.fit(X_train, Y_train)\n",
    "Y_pred_LR = linear_regression.predict(X_test)\n",
    "\n",
    "acc_linear_regression = round(linear_regression.score(X_train, Y_train) * 100, 2)\n",
    "print(\"Linear Regression accurary: %.3f\" % (acc_linear_regression))"
   ]
  },
  {
   "cell_type": "markdown",
   "id": "subsequent-heating",
   "metadata": {},
   "source": [
    "# Ans. 6\n",
    "***\n",
    "\n",
    "* Perform cross validation\n",
    "\n",
    "> Random Forrest model is best."
   ]
  },
  {
   "cell_type": "code",
   "execution_count": 26,
   "id": "spoken-binary",
   "metadata": {},
   "outputs": [
    {
     "name": "stdout",
     "output_type": "stream",
     "text": [
      "Accuracy for Decision Tree Classifier Model: 0.802 (0.024)\n",
      "Accuracy for Random Forest Model: 0.819 (0.027)\n",
      "Accuracy for Linear Regression Model: nan (nan)\n"
     ]
    }
   ],
   "source": [
    "# Cross Validation\n",
    "\n",
    "cv = StratifiedKFold(n_splits = 5, random_state = 1, shuffle = True)\n",
    "\n",
    "## Decision Tree\n",
    "scoresDS = cross_val_score(decision_tree, X_train, Y_train, scoring = 'accuracy', cv = cv, n_jobs = 1)\n",
    "print('Accuracy for Decision Tree Classifier Model: %.3f (%.3f)' % (mean(scoresDS), std(scoresDS)))\n",
    "\n",
    "## Random Forrest\n",
    "scoresRF = cross_val_score(random_forest, X_train, Y_train, scoring = 'accuracy', cv = cv, n_jobs = 1)\n",
    "print('Accuracy for Random Forest Model: %.3f (%.3f)' % (mean(scoresRF), std(scoresRF)))\n",
    "\n",
    "## Linear Regression\n",
    "scoresLR = cross_val_score(linear_regression, X_train, Y_train, scoring = 'accuracy', cv = cv, n_jobs = 1)\n",
    "print('Accuracy for Linear Regression Model: %.3f (%.3f)' % (mean(scoresLR), std(scoresLR)))"
   ]
  },
  {
   "cell_type": "markdown",
   "id": "electronic-sustainability",
   "metadata": {},
   "source": [
    "# Ans. 7\n",
    "***\n",
    "\n",
    "* Grid Search to further fine tune model.\n",
    "\n",
    "> Fine tuning decrease prediction performance from 87.88 to 86.31"
   ]
  },
  {
   "cell_type": "code",
   "execution_count": 27,
   "id": "alike-greece",
   "metadata": {},
   "outputs": [
    {
     "name": "stdout",
     "output_type": "stream",
     "text": [
      "Fitting 5 folds for each of 324 candidates, totalling 1620 fits\n"
     ]
    },
    {
     "data": {
      "text/plain": [
       "GridSearchCV(cv=5, estimator=RandomForestClassifier(random_state=0), n_jobs=-1,\n",
       "             param_grid={'criterion': ['gini', 'entropy'],\n",
       "                         'max_depth': [5, 7, 9],\n",
       "                         'max_features': ['auto', 'log2'],\n",
       "                         'min_samples_leaf': [6, 8, 10],\n",
       "                         'min_samples_split': [6, 8, 10],\n",
       "                         'n_estimators': [200, 300, 500]},\n",
       "             verbose=3)"
      ]
     },
     "execution_count": 27,
     "metadata": {},
     "output_type": "execute_result"
    }
   ],
   "source": [
    "# instantiate base random forest model class\n",
    "rf = RandomForestClassifier(random_state=0)\n",
    "\n",
    "# define gridsearch parameters\n",
    "param_grid = {'criterion': ['gini', 'entropy'], 'n_estimators': [200, 300, 500], 'max_features': ['auto', 'log2'],\n",
    "              'max_depth': [5, 7, 9], 'min_samples_split': [6, 8, 10], 'min_samples_leaf': [6, 8, 10]}\n",
    "\n",
    "# instantiate gridsearchcv class\n",
    "rfgs = GridSearchCV(estimator = rf, param_grid = param_grid, cv = 5, verbose = 3, n_jobs = -1)\n",
    "\n",
    "# fit model\n",
    "rfgs.fit(X_train, Y_train)"
   ]
  },
  {
   "cell_type": "code",
   "execution_count": 28,
   "id": "becoming-butter",
   "metadata": {},
   "outputs": [
    {
     "data": {
      "text/plain": [
       "{'criterion': 'entropy',\n",
       " 'max_depth': 7,\n",
       " 'max_features': 'auto',\n",
       " 'min_samples_leaf': 8,\n",
       " 'min_samples_split': 6,\n",
       " 'n_estimators': 300}"
      ]
     },
     "execution_count": 28,
     "metadata": {},
     "output_type": "execute_result"
    }
   ],
   "source": [
    "rfgs.best_params_"
   ]
  },
  {
   "cell_type": "code",
   "execution_count": 29,
   "id": "editorial-geometry",
   "metadata": {},
   "outputs": [
    {
     "data": {
      "text/plain": [
       "86.31"
      ]
     },
     "execution_count": 29,
     "metadata": {},
     "output_type": "execute_result"
    }
   ],
   "source": [
    "#Random Forrest\n",
    "\n",
    "rf1=RandomForestClassifier(random_state = 42, criterion = 'entropy', max_depth = 7, max_features = 'auto', n_estimators = 300)\n",
    "\n",
    "rf1.fit(X_train, Y_train)\n",
    "Y_pred_GSRF = rf1.predict(X_test)\n",
    "rf1.score(X_train, Y_train)\n",
    "acc_random_forest_GS = round(rf1.score(X_train, Y_train) * 100, 2)\n",
    "acc_random_forest_GS"
   ]
  },
  {
   "cell_type": "code",
   "execution_count": 30,
   "id": "japanese-maker",
   "metadata": {},
   "outputs": [
    {
     "name": "stdout",
     "output_type": "stream",
     "text": [
      "Accuracy for Random Forest Model: 0.816 (0.037)\n"
     ]
    }
   ],
   "source": [
    "scoresGSRF = cross_val_score(rf1, X_train, Y_train, scoring = 'accuracy', cv = cv, n_jobs = 1)\n",
    "print('Accuracy for Random Forest Model: %.3f (%.3f)' % (mean(scoresGSRF), std(scoresGSRF)))"
   ]
  },
  {
   "cell_type": "markdown",
   "id": "uniform-legislation",
   "metadata": {},
   "source": [
    "# Submission"
   ]
  },
  {
   "cell_type": "code",
   "execution_count": 31,
   "id": "raised-abortion",
   "metadata": {},
   "outputs": [],
   "source": [
    "output = pd.DataFrame(test['PassengerId'])\n",
    "output['Survived'] = Y_pred_RF"
   ]
  },
  {
   "cell_type": "code",
   "execution_count": 32,
   "id": "worth-cream",
   "metadata": {},
   "outputs": [],
   "source": [
    "output.to_csv('submission.csv', index = False)"
   ]
  }
 ],
 "metadata": {
  "kernelspec": {
   "display_name": "Python 3 (ipykernel)",
   "language": "python",
   "name": "python3"
  },
  "language_info": {
   "codemirror_mode": {
    "name": "ipython",
    "version": 3
   },
   "file_extension": ".py",
   "mimetype": "text/x-python",
   "name": "python",
   "nbconvert_exporter": "python",
   "pygments_lexer": "ipython3",
   "version": "3.9.12"
  }
 },
 "nbformat": 4,
 "nbformat_minor": 5
}
